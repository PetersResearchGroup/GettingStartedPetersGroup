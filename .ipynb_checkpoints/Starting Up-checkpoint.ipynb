{
 "cells": [
  {
   "cell_type": "code",
   "execution_count": null,
   "metadata": {},
   "outputs": [],
   "source": [
    "#Getting access to the group server and installing software. \n",
    "\n",
    "#1. If you are going to access the server from off campus, you will need to install the LaTech VPN client. This will make the server think you are on campus. \n",
    "\n",
    "#Go to https://techvpn.latech.edu/ and login with your LaTech username and password. Install the GlobalProtect agent for your OS. You can run that to connect to the VPN. This is not necessary if you are on campus. \n"
   ]
  },
  {
   "cell_type": "code",
   "execution_count": null,
   "metadata": {},
   "outputs": [],
   "source": [
    "#2. Run a remote desktop program. Windows includes \"remote desktop connection\".\n",
    "\n",
    "#Connect to 138.47.29.84\n",
    "\n",
    "#If you click the down arrow below the computer name you can input your username so that you don't have to enter it everytime. \n",
    "\n",
    "#You should see a black screen with a window that says Login to xrdp. Change the username to your username and put in your password. \n"
   ]
  },
  {
   "cell_type": "code",
   "execution_count": null,
   "metadata": {},
   "outputs": [],
   "source": [
    "#3. Open a terminal using ctrl-alt-t or by clicking on the icon that looks like a block box with $_ at the bottom of the screen. \n",
    "\n"
   ]
  },
  {
   "cell_type": "code",
   "execution_count": 1,
   "metadata": {},
   "outputs": [
    {
     "name": "stdout",
     "output_type": "stream",
     "text": [
      "bash: cd: Downloads: No such file or directory\n",
      "--2020-06-10 16:17:27--  https://repo.anaconda.com/miniconda/Miniconda3-latest-Linux-x86_64.sh\n",
      "Resolving repo.anaconda.com (repo.anaconda.com)... 104.16.131.3, 104.16.130.3, 2606:4700::6810:8203, ...\n",
      "Connecting to repo.anaconda.com (repo.anaconda.com)|104.16.131.3|:443... connected.\n",
      "HTTP request sent, awaiting response... 200 OK\n",
      "Length: 85055499 (81M) [application/x-sh]\n",
      "Saving to: ‘Miniconda3-latest-Linux-x86_64.sh’\n",
      "\n",
      "Miniconda3-latest-L 100%[===================>]  81.12M  99.7MB/s    in 0.8s    \n",
      "\n",
      "utime(Miniconda3-latest-Linux-x86_64.sh): Operation not permitted\n",
      "2020-06-10 16:17:34 (99.7 MB/s) - ‘Miniconda3-latest-Linux-x86_64.sh’ saved [85055499/85055499]\n",
      "\n",
      "chmod: changing permissions of 'Miniconda3-latest-Linux-x86_64.sh': Operation not permitted\n"
     ]
    },
    {
     "ename": "",
     "evalue": "1",
     "output_type": "error",
     "traceback": []
    }
   ],
   "source": [
    "\n",
    "#4. Install MiniConda; a software suite for organizing python code. Execute the following code:\n",
    "\n",
    "cd ~/Downloads #change directory to Downloads\n",
    "\n",
    "wget https://repo.anaconda.com/miniconda/Miniconda3-latest-Linux-x86_64.sh #Download file to install Miniconda\n",
    "\n",
    "chmod +x Miniconda3-latest-Linux-x86_64.sh #allow the file to be run"
   ]
  },
  {
   "cell_type": "code",
   "execution_count": null,
   "metadata": {},
   "outputs": [],
   "source": [
    "\n",
    "#5. Run the file to install Conda\n",
    "\n",
    "./Miniconda3-latest-Linux-x86_64.sh #run the file\n",
    "\n",
    "#Follow the instructions on the screen to install miniconda. Just press enter unless it reuires an answer, in which case just enter yes. \n",
    "\n",
    "#Close and reopen the terminal. This allows the terminal to find conda now. "
   ]
  },
  {
   "cell_type": "code",
   "execution_count": null,
   "metadata": {},
   "outputs": [],
   "source": [
    "# 6. Install hoomd and gsd python code. In that terminal enter the following code. More details can be found in the hoomd documentation: https://hoomd-blue.readthedocs.io/en/stable/installation.html\n",
    "\n",
    "conda install -c conda-forge hoomd gsd\n",
    "\n",
    "#This will take some time. Press enter when required. \n"
   ]
  },
  {
   "cell_type": "code",
   "execution_count": null,
   "metadata": {},
   "outputs": [],
   "source": [
    "\n",
    "# 7. Run hoomd tutorials. https://nbviewer.jupyter.org/github/joaander/hoomd-examples/blob/master/index.ipynb\n",
    "\n",
    "# Hoomd runs in python. In the terminal type python, then you will be able to enter to code in the tutorials. Do the Lennard-Jones and DPD polymers tutorials. \n",
    "\n",
    "# For the tutorials, enter conde into python in the terminal is fine. When you actually running simualtions you will want to create a script and run the script with\n",
    "\n",
    "python script.py\n",
    "\n",
    "# in the terminal, where \"script.py\" is the name of the script. Everything you enter in the terminal in the tutorials will need to be in the script. When you're actually running simulations, make sure you save every script you run so we can refer back to it later. \n",
    "\n",
    "\n"
   ]
  }
 ],
 "metadata": {
  "kernelspec": {
   "display_name": "Bash",
   "language": "bash",
   "name": "bash"
  },
  "language_info": {
   "codemirror_mode": "shell",
   "file_extension": ".sh",
   "mimetype": "text/x-sh",
   "name": "bash"
  }
 },
 "nbformat": 4,
 "nbformat_minor": 4
}

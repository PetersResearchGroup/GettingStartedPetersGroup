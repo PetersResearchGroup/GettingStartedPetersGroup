{
 "cells": [
  {
   "cell_type": "markdown",
   "metadata": {},
   "source": [
    "# Getting access to the group server and installing software. \n",
    "\n",
    "#### 1. If you are going to access the server from off campus, you will need to install the LaTech VPN client. This will make the server think you are on campus. \n",
    "\n",
    "Go to https://techvpn.latech.edu/ and login with your LaTech username and password. Install the GlobalProtect agent for your OS. You can run that to connect to the VPN. This is not necessary if you are on campus. \n"
   ]
  },
  {
   "cell_type": "markdown",
   "metadata": {},
   "source": [
    "#### 2. Run a remote desktop program. Windows includes \"remote desktop connection\".\n",
    "\n",
    "Connect to 138.47.29.84\n",
    "\n",
    "If you click the down arrow below the computer name you can input your username so that you don't have to enter it everytime. \n",
    "\n",
    "You should see a black screen with a window that says Login to xrdp. Change the username to your username and put in your password. \n"
   ]
  },
  {
   "cell_type": "markdown",
   "metadata": {},
   "source": [
    "3. Open a terminal using ctrl-alt-t or by clicking on the icon that looks like a block box with $_ at the bottom of the screen. \n",
    "\n"
   ]
  },
  {
   "cell_type": "markdown",
   "metadata": {},
   "source": [
    "4. Install MiniConda; a software suite for organizing python code. Execute the following code:\n",
    "\n"
   ]
  },
  {
   "cell_type": "code",
   "execution_count": null,
   "metadata": {},
   "outputs": [],
   "source": [
    "cd ~/Downloads #change directory to Downloads\n",
    "\n",
    "wget https://repo.anaconda.com/miniconda/Miniconda3-latest-Linux-x86_64.sh #Download file to install Miniconda\n",
    "\n",
    "chmod +x Miniconda3-latest-Linux-x86_64.sh #allow the file to be run"
   ]
  },
  {
   "cell_type": "markdown",
   "metadata": {},
   "source": [
    "5. Run the file to install Conda"
   ]
  },
  {
   "cell_type": "code",
   "execution_count": null,
   "metadata": {},
   "outputs": [],
   "source": [
    "./Miniconda3-latest-Linux-x86_64.sh #run the file"
   ]
  },
  {
   "cell_type": "markdown",
   "metadata": {},
   "source": [
    "Follow the instructions on the screen to install miniconda. Just press enter unless it reuires an answer, in which case just enter yes. \n",
    "\n",
    "Close and reopen the terminal. This allows the terminal to find conda now. "
   ]
  },
  {
   "cell_type": "markdown",
   "metadata": {},
   "source": [
    "6. Install hoomd and gsd python code. In that terminal enter the following code. More details can be found in the hoomd documentation: https://hoomd-blue.readthedocs.io/en/stable/installation.html\n"
   ]
  },
  {
   "cell_type": "code",
   "execution_count": null,
   "metadata": {},
   "outputs": [],
   "source": [
    "conda install -c conda-forge hoomd gsd"
   ]
  },
  {
   "cell_type": "markdown",
   "metadata": {},
   "source": [
    "This will take some time. Press enter when required. "
   ]
  },
  {
   "cell_type": "markdown",
   "metadata": {},
   "source": [
    "7. Run hoomd tutorials. https://nbviewer.jupyter.org/github/joaander/hoomd-examples/blob/master/index.ipynb\n",
    "\n",
    "Hoomd runs in python. In the terminal type python, then you will be able to enter to code in the tutorials. Do the Lennard-Jones and DPD polymers tutorials. \n",
    "\n",
    "For the tutorials, enter conde into python in the terminal is fine. When you actually running simualtions you will want to create a script and run the script with"
   ]
  },
  {
   "cell_type": "code",
   "execution_count": null,
   "metadata": {},
   "outputs": [],
   "source": [
    "python script.py"
   ]
  },
  {
   "cell_type": "markdown",
   "metadata": {},
   "source": [
    "In the terminal, where \"script.py\" is the name of the script. Everything you enter in the terminal in the tutorials will need to be in the script. When you're actually running simulations, make sure you save every script you run so we can refer back to it later. "
   ]
  }
 ],
 "metadata": {
  "kernelspec": {
   "display_name": "Bash",
   "language": "bash",
   "name": "bash"
  },
  "language_info": {
   "codemirror_mode": "shell",
   "file_extension": ".sh",
   "mimetype": "text/x-sh",
   "name": "bash"
  }
 },
 "nbformat": 4,
 "nbformat_minor": 4
}

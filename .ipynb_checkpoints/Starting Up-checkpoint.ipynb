{
 "cells": [
  {
   "cell_type": "markdown",
   "metadata": {},
   "source": [
    "# Getting access to the group server and installing software. \n",
    "\n",
    "#### 1. If you are going to access the server from off campus, you will need to install the LaTech VPN client. This will make the server think you are on campus. \n",
    "\n",
    "Go to https://techvpn.latech.edu/ and login with your LaTech username and password. Install the GlobalProtect agent for your OS. You can run that to connect to the VPN. This is not necessary if you are on campus. \n"
   ]
  },
  {
   "cell_type": "markdown",
   "metadata": {},
   "source": [
    "#### 2. Run a remote desktop program. Windows includes \"remote desktop connection\".\n",
    "\n",
    "Connect to 138.47.29.84\n",
    "\n",
    "If you click the down arrow below the computer name you can input your username so that you don't have to enter it everytime. \n",
    "\n",
    "You should see a black screen with a window that says Login to xrdp. Change the username to your username and put in your password. \n"
   ]
  },
  {
   "cell_type": "markdown",
   "metadata": {},
   "source": [
    "#### 3. Open a terminal using ctrl-alt-t or by clicking on the icon that looks like a block box with $_ at the bottom of the screen. \n",
    "\n"
   ]
  },
  {
   "cell_type": "markdown",
   "metadata": {},
   "source": [
    "#### 4. Install MiniConda; a software suite for organizing python code. Execute the following code:\n",
    "\n"
   ]
  },
  {
   "cell_type": "code",
   "execution_count": null,
   "metadata": {},
   "outputs": [],
   "source": [
    "cd ~/Downloads #change directory to Downloads\n",
    "\n",
    "wget https://repo.anaconda.com/miniconda/Miniconda3-latest-Linux-x86_64.sh #Download file to install Miniconda\n",
    "\n",
    "chmod +x Miniconda3-latest-Linux-x86_64.sh #allow the file to be run"
   ]
  },
  {
   "cell_type": "markdown",
   "metadata": {},
   "source": [
    "#### 5. Run the file to install Conda"
   ]
  },
  {
   "cell_type": "code",
   "execution_count": null,
   "metadata": {},
   "outputs": [],
   "source": [
    "./Miniconda3-latest-Linux-x86_64.sh #run the file"
   ]
  },
  {
   "cell_type": "markdown",
   "metadata": {},
   "source": [
    "Follow the instructions on the screen to install miniconda. Just press enter unless it reuires an answer, in which case just enter yes. \n",
    "\n",
    "Close and reopen the terminal. This allows the terminal to find conda now. "
   ]
  },
  {
   "cell_type": "markdown",
   "metadata": {},
   "source": [
    "#### 6. Install hoomd and gsd python code. In that terminal enter the following code. More details can be found in the hoomd documentation: https://hoomd-blue.readthedocs.io/en/stable/installation.html\n"
   ]
  },
  {
   "cell_type": "code",
   "execution_count": null,
   "metadata": {},
   "outputs": [],
   "source": [
    "conda install -c conda-forge hoomd gsd"
   ]
  },
  {
   "cell_type": "markdown",
   "metadata": {},
   "source": [
    "This will take some time. Press enter when required. "
   ]
  },
  {
   "cell_type": "markdown",
   "metadata": {},
   "source": [
    "#### 7. Run hoomd tutorials. https://nbviewer.jupyter.org/github/joaander/hoomd-examples/blob/master/index.ipynb\n",
    "\n",
    "Hoomd runs in python. In the terminal type python, then you will be able to enter to code in the tutorials. Do the Lennard-Jones and DPD polymers tutorials. \n",
    "\n",
    "For the tutorials, enter conde into python in the terminal is fine. When you actually running simualtions you will want to create a script and run the script with"
   ]
  },
  {
   "cell_type": "code",
   "execution_count": null,
   "metadata": {},
   "outputs": [],
   "source": [
    "python script.py"
   ]
  },
  {
   "cell_type": "markdown",
   "metadata": {},
   "source": [
    "In the terminal, where \"script.py\" is the name of the script. Everything you enter in the terminal in the tutorials will need to be in the script. When you're actually running simulations, make sure you save every script you run so we can refer back to it later. "
   ]
  },
  {
   "cell_type": "markdown",
   "metadata": {},
   "source": [
    "## Other Software\n",
    "\n",
    "#### VMD\n",
    "VMD, which is used to view simulation results, can be run from the terminal using:"
   ]
  },
  {
   "cell_type": "code",
   "execution_count": null,
   "metadata": {},
   "outputs": [],
   "source": [
    "vmd name.gsd"
   ]
  },
  {
   "cell_type": "markdown",
   "metadata": {},
   "source": [
    "where name.gsd is the name of the gsd file you want to open. "
   ]
  },
  {
   "cell_type": "markdown",
   "metadata": {},
   "source": [
    "#### MATLAB\n",
    "MATLAB will also be useful. I recommend creating a folder called MATLAB in your home directory where you store all you code, for example ~/MATLAB. That can be done like this:"
   ]
  },
  {
   "cell_type": "code",
   "execution_count": null,
   "metadata": {},
   "outputs": [],
   "source": [
    "cd ~\n",
    "mkdir MATLAB\n",
    "cd MATLAB"
   ]
  },
  {
   "cell_type": "markdown",
   "metadata": {},
   "source": [
    "Then, download some common code our group uses using git. All the code is available here: https://gitlab.com/MATLAB-HOOMD-System. It is organized into repositories. I recommend creating a GIT directory in your MATLAB directory to store this code. "
   ]
  },
  {
   "cell_type": "code",
   "execution_count": null,
   "metadata": {},
   "outputs": [],
   "source": [
    "cd ~/MATLAB\n",
    "mkdir GIT\n",
    "cd GIT"
   ]
  },
  {
   "cell_type": "markdown",
   "metadata": {},
   "source": [
    "Each repository can be downloaded and stored in your MATLAB directory via:"
   ]
  },
  {
   "cell_type": "code",
   "execution_count": null,
   "metadata": {},
   "outputs": [],
   "source": [
    "cd ~/MATLAB/GIT\n",
    "git clone https://gitlab.com/MATLAB-HOOMD-System/System.git"
   ]
  },
  {
   "cell_type": "markdown",
   "metadata": {},
   "source": [
    "where you can substitue nameofrepository.git in for System.git. I recommend downloading:\n",
    "\n",
    "Build.git\n",
    "System.git\n",
    "Analysis.git\n",
    "miscellaneous.git\n",
    "\n",
    "Other repositories can be download if relavent to your project. "
   ]
  },
  {
   "cell_type": "markdown",
   "metadata": {},
   "source": [
    "To make these files available to MATLAB (that is, add them to your path) when MATLAB starts we need to create a file called startup.m in our matlab directory and tell it do add those folder to the path. Run the following in the terminal:"
   ]
  },
  {
   "cell_type": "code",
   "execution_count": null,
   "metadata": {},
   "outputs": [],
   "source": [
    "cd ~/MATLAB\n",
    "echo \"addpath(genpath('~/MATLAB/GIT/'))\" > startup.m"
   ]
  }
 ],
 "metadata": {
  "kernelspec": {
   "display_name": "Bash",
   "language": "bash",
   "name": "bash"
  },
  "language_info": {
   "codemirror_mode": "shell",
   "file_extension": ".sh",
   "mimetype": "text/x-sh",
   "name": "bash"
  }
 },
 "nbformat": 4,
 "nbformat_minor": 4
}
